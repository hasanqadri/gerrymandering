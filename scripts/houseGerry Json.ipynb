{
 "cells": [
  {
   "cell_type": "code",
   "execution_count": 1,
   "metadata": {},
   "outputs": [],
   "source": [
    "import json\n",
    "import csv\n",
    "import pandas as pd\n",
    "import numpy as np\n",
    "\n",
    "df = pd.read_csv('house_results.csv', usecols=['State', 'District','Dem Total', 'Gop Total', 'Total Vote', 'Winner', 'Uncontested']);\n",
    "states = {}\n",
    "\n",
    "for i, row in enumerate(df.values):\n",
    "    if not row[6]:\n",
    "        if row[0] not in states:\n",
    "            states[row[0]] = {'State': row[0],\n",
    "                              'Dem Total': row[2],\n",
    "                              'Gop Total': row[3],\n",
    "                              'Total Vote': row[4],\n",
    "                              'Gop Wins':1 if 'Gop' == row[5] else 0,\n",
    "                              'Dem Wins': 1 if 'Dem' == row[5] else  0}\n",
    "        else:\n",
    "            states[row[0]] = {'State': row[0],\n",
    "                              'Dem Total': (row[2] + states[row[0]]['Dem Total']),\n",
    "                              'Gop Total': (row[3] + states[row[0]]['Gop Total']),\n",
    "                              'Total Vote': (row[4] + states[row[0]]['Total Vote']),\n",
    "                              'Gop Wins': (states[row[0]]['Gop Wins'] + 1 if 'Gop' == row[5] else states[row[0]]['Gop Wins']),\n",
    "                              'Dem Wins': (states[row[0]]['Dem Wins'] + 1 if 'Dem' == row[5] else states[row[0]]['Dem Wins'])}\n"
   ]
  },
  {
   "cell_type": "code",
   "execution_count": 2,
   "metadata": {},
   "outputs": [],
   "source": [
    "for element in states:\n",
    "    states[element]['Dem Total'] = (states[element]['Dem Total'] / float(states[element]['Total Vote'])) \n",
    "    states[element]['Gop Total'] = (states[element]['Gop Total'] / float(states[element]['Total Vote'])) \n",
    "    totalWins = states[element]['Gop Wins'] + states[element]['Dem Wins']\n",
    "    states[element]['Dem %'] = states[element]['Dem Wins'] / float(totalWins)\n",
    "    states[element]['Gop %'] = states[element]['Gop Wins'] / float(totalWins)\n"
   ]
  },
  {
   "cell_type": "code",
   "execution_count": 3,
   "metadata": {},
   "outputs": [],
   "source": [
    "a = 1\n",
    "b = np.array([])\n",
    "d = np.array(['State','Dem % of Votes','Gop % of Votes','Dem % of Seats','Gop % of Seats','Dem Wins','Gop Wins'])\n",
    "for elem in states: \n",
    "    c = np.array([states[elem]['State'],\n",
    "                  states[elem]['Dem Total'],\n",
    "                  states[elem]['Gop Total'],\n",
    "                  states[elem]['Dem %'],\n",
    "                  states[elem]['Gop %'],\n",
    "                   states[elem]['Dem Wins'],\n",
    "                  states[elem]['Gop Wins']])\n",
    "    d = np.vstack([d,c])\n",
    "d = np.asarray(d)\n",
    "pd.DataFrame(d).to_csv(\"house_gerry.csv\", header=None, index=None)\n"
   ]
  },
  {
   "cell_type": "code",
   "execution_count": null,
   "metadata": {},
   "outputs": [],
   "source": []
  }
 ],
 "metadata": {
  "kernelspec": {
   "display_name": "Python 2",
   "language": "python",
   "name": "python2"
  },
  "language_info": {
   "codemirror_mode": {
    "name": "ipython",
    "version": 2
   },
   "file_extension": ".py",
   "mimetype": "text/x-python",
   "name": "python",
   "nbconvert_exporter": "python",
   "pygments_lexer": "ipython2",
   "version": "2.7.14"
  }
 },
 "nbformat": 4,
 "nbformat_minor": 2
}
